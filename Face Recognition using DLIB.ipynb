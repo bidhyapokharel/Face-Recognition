{
 "cells": [
  {
   "cell_type": "code",
   "execution_count": 1,
   "id": "2c75f17a",
   "metadata": {},
   "outputs": [],
   "source": [
    "import os\n",
    "import dlib\n",
    "import numpy as np\n",
    "from skimage import io\n",
    "import cv2\n",
    "\n",
    "data_dir = os.path.expanduser('~/data')\n",
    "faces_folder_path = data_dir + '/kodemaker/'"
   ]
  },
  {
   "cell_type": "code",
   "execution_count": 3,
   "id": "26daf9f8",
   "metadata": {
    "scrolled": true
   },
   "outputs": [
    {
     "name": "stdout",
     "output_type": "stream",
     "text": [
      "/home/bidhya/data\n",
      "/home/bidhya/data/kodemaker/\n"
     ]
    }
   ],
   "source": [
    "print(data_dir)\n",
    "print(faces_folder_path)"
   ]
  },
  {
   "cell_type": "code",
   "execution_count": 4,
   "id": "9cab3fe6",
   "metadata": {},
   "outputs": [
    {
     "ename": "RuntimeError",
     "evalue": "Unable to open /home/bidhya/data/dlib/shape_predictor_68_face_landmarks.dat",
     "output_type": "error",
     "traceback": [
      "\u001b[0;31m---------------------------------------------------------------------------\u001b[0m",
      "\u001b[0;31mRuntimeError\u001b[0m                              Traceback (most recent call last)",
      "\u001b[0;32m<ipython-input-4-36cff6a96c8c>\u001b[0m in \u001b[0;36m<module>\u001b[0;34m\u001b[0m\n\u001b[1;32m      1\u001b[0m \u001b[0;31m# Globals\u001b[0m\u001b[0;34m\u001b[0m\u001b[0;34m\u001b[0m\u001b[0;34m\u001b[0m\u001b[0m\n\u001b[1;32m      2\u001b[0m \u001b[0mface_detector\u001b[0m \u001b[0;34m=\u001b[0m \u001b[0mdlib\u001b[0m\u001b[0;34m.\u001b[0m\u001b[0mget_frontal_face_detector\u001b[0m\u001b[0;34m(\u001b[0m\u001b[0;34m)\u001b[0m\u001b[0;34m\u001b[0m\u001b[0;34m\u001b[0m\u001b[0m\n\u001b[0;32m----> 3\u001b[0;31m \u001b[0mshape_predictor\u001b[0m \u001b[0;34m=\u001b[0m \u001b[0mdlib\u001b[0m\u001b[0;34m.\u001b[0m\u001b[0mshape_predictor\u001b[0m\u001b[0;34m(\u001b[0m\u001b[0mdata_dir\u001b[0m \u001b[0;34m+\u001b[0m \u001b[0;34m'/dlib/shape_predictor_68_face_landmarks.dat'\u001b[0m\u001b[0;34m)\u001b[0m\u001b[0;34m\u001b[0m\u001b[0;34m\u001b[0m\u001b[0m\n\u001b[0m\u001b[1;32m      4\u001b[0m \u001b[0mface_recognition_model\u001b[0m \u001b[0;34m=\u001b[0m \u001b[0mdlib\u001b[0m\u001b[0;34m.\u001b[0m\u001b[0mface_recognition_model_v1\u001b[0m\u001b[0;34m(\u001b[0m\u001b[0mdata_dir\u001b[0m \u001b[0;34m+\u001b[0m \u001b[0;34m'/dlib/dlib_face_recognition_resnet_model_v1.dat'\u001b[0m\u001b[0;34m)\u001b[0m\u001b[0;34m\u001b[0m\u001b[0;34m\u001b[0m\u001b[0m\n",
      "\u001b[0;31mRuntimeError\u001b[0m: Unable to open /home/bidhya/data/dlib/shape_predictor_68_face_landmarks.dat"
     ]
    }
   ],
   "source": [
    "# Globals\n",
    "face_detector = dlib.get_frontal_face_detector()\n",
    "shape_predictor = dlib.shape_predictor(data_dir + '/dlib/shape_predictor_68_face_landmarks.dat')\n",
    "face_recognition_model = dlib.face_recognition_model_v1(data_dir + '/dlib/dlib_face_recognition_resnet_model_v1.dat')"
   ]
  },
  {
   "cell_type": "code",
   "execution_count": 5,
   "id": "81e8c76a",
   "metadata": {},
   "outputs": [],
   "source": [
    "def get_face_encodings(face):\n",
    "    bounds = face_detector(face, 1)\n",
    "    faces_landmarks = [shape_predictor(face, face_bounds) for face_bounds in bounds]\n",
    "    return [np.array(face_recognition_model.compute_face_descriptor(face, face_pose, 1)) for face_pose in faces_landmarks]"
   ]
  },
  {
   "cell_type": "code",
   "execution_count": 7,
   "id": "a2b291e9",
   "metadata": {},
   "outputs": [],
   "source": [
    "def get_face_matches(known_faces, face):\n",
    "    return np.linalg.norm(known_faces - face, axis=1)"
   ]
  },
  {
   "cell_type": "code",
   "execution_count": 8,
   "id": "cbdbb380",
   "metadata": {},
   "outputs": [],
   "source": [
    "def find_match(known_faces, person_names, face):\n",
    "    matches = get_face_matches(known_faces, face) # get a list of True/False\n",
    "    min_index = matches.argmin()\n",
    "    min_value = matches[min_index]\n",
    "    if min_value < 0.55:\n",
    "        return person_names[min_index]+\"! ({0:.2f})\".format(min_value)\n",
    "    if min_value < 0.58:\n",
    "        return person_names[min_index]+\" ({0:.2f})\".format(min_value)\n",
    "    if min_value < 0.65:\n",
    "        return person_names[min_index]+\"?\"+\" ({0:.2f})\".format(min_value)\n",
    "    return 'Not Found'"
   ]
  },
  {
   "cell_type": "code",
   "execution_count": 9,
   "id": "032e5755",
   "metadata": {},
   "outputs": [],
   "source": [
    "def recognize_faces_in_video(face_encodings, person_names):\n",
    "    faceClassifier = cv2.CascadeClassifier(data_dir + '/opencv/haarcascade_frontalface_default.xml')\n",
    "    cap = cv2.VideoCapture(0)\n",
    "    cap.set(cv2.CAP_PROP_FRAME_WIDTH, 640)\n",
    "    cap.set(cv2.CAP_PROP_FRAME_HEIGHT, 360)\n",
    "\n",
    "    while True:\n",
    "        ret, frame = cap.read()\n",
    "        if not ret:\n",
    "            break\n",
    "\n",
    "        gray = cv2.cvtColor(frame, cv2.COLOR_BGR2GRAY)\n",
    "\n",
    "        face_rects = faceClassifier.detectMultiScale(\n",
    "            gray,\n",
    "            scaleFactor = 1.1,\n",
    "            minNeighbors = 5,\n",
    "            minSize = (50, 50),\n",
    "            flags = cv2.CASCADE_SCALE_IMAGE)\n",
    "\n",
    "        for (x, y, w, h) in face_rects:\n",
    "            cv2.rectangle(frame, (x, y), (x + w, y + h), (255, 0, 0), 2)\n",
    "            face = frame[y:y + h, x:x + w]\n",
    "            face_encodings_in_image = get_face_encodings(face)\n",
    "            if (face_encodings_in_image):\n",
    "                match = find_match(face_encodings, person_names, face_encodings_in_image[0])\n",
    "                cv2.putText(frame, match, (x+5, y-15), cv2.FONT_HERSHEY_SIMPLEX, 1, (0, 255, 255), 2)\n",
    "\n",
    "        cv2.imshow(\"bilde\", frame)\n",
    "\n",
    "        if cv2.waitKey(10) == 27:\n",
    "            break\n",
    "\n",
    "    cap.release()\n",
    "    cv2.destroyAllWindows()"
   ]
  },
  {
   "cell_type": "code",
   "execution_count": 10,
   "id": "3dffd516",
   "metadata": {},
   "outputs": [
    {
     "ename": "NameError",
     "evalue": "name 'load_face_encodings' is not defined",
     "output_type": "error",
     "traceback": [
      "\u001b[0;31m---------------------------------------------------------------------------\u001b[0m",
      "\u001b[0;31mNameError\u001b[0m                                 Traceback (most recent call last)",
      "\u001b[0;32m<ipython-input-10-2bc986890172>\u001b[0m in \u001b[0;36m<module>\u001b[0;34m\u001b[0m\n\u001b[0;32m----> 1\u001b[0;31m \u001b[0mface_encodings\u001b[0m\u001b[0;34m,\u001b[0m \u001b[0mperson_names\u001b[0m \u001b[0;34m=\u001b[0m \u001b[0mload_face_encodings\u001b[0m\u001b[0;34m(\u001b[0m\u001b[0mfaces_folder_path\u001b[0m\u001b[0;34m)\u001b[0m\u001b[0;34m\u001b[0m\u001b[0;34m\u001b[0m\u001b[0m\n\u001b[0m\u001b[1;32m      2\u001b[0m \u001b[0mrecognize_faces_in_video\u001b[0m\u001b[0;34m(\u001b[0m\u001b[0mface_encodings\u001b[0m\u001b[0;34m,\u001b[0m \u001b[0mperson_names\u001b[0m\u001b[0;34m)\u001b[0m\u001b[0;34m\u001b[0m\u001b[0;34m\u001b[0m\u001b[0m\n",
      "\u001b[0;31mNameError\u001b[0m: name 'load_face_encodings' is not defined"
     ]
    }
   ],
   "source": [
    "face_encodings, person_names = load_face_encodings(faces_folder_path)\n",
    "recognize_faces_in_video(face_encodings, person_names)"
   ]
  }
 ],
 "metadata": {
  "kernelspec": {
   "display_name": "Python 3",
   "language": "python",
   "name": "python3"
  },
  "language_info": {
   "codemirror_mode": {
    "name": "ipython",
    "version": 3
   },
   "file_extension": ".py",
   "mimetype": "text/x-python",
   "name": "python",
   "nbconvert_exporter": "python",
   "pygments_lexer": "ipython3",
   "version": "3.8.5"
  }
 },
 "nbformat": 4,
 "nbformat_minor": 5
}
